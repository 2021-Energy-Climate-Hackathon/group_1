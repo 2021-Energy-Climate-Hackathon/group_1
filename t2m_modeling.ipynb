{
 "cells": [
  {
   "cell_type": "code",
   "execution_count": 1,
   "metadata": {},
   "outputs": [],
   "source": [
    "import pandas as pd\n",
    "from sklearn.model_selection import train_test_split\n",
    "import matplotlib.pyplot as plt\n",
    "import numpy as np"
   ]
  },
  {
   "cell_type": "code",
   "execution_count": 2,
   "metadata": {},
   "outputs": [
    {
     "data": {
      "text/html": [
       "<div>\n",
       "<style scoped>\n",
       "    .dataframe tbody tr th:only-of-type {\n",
       "        vertical-align: middle;\n",
       "    }\n",
       "\n",
       "    .dataframe tbody tr th {\n",
       "        vertical-align: top;\n",
       "    }\n",
       "\n",
       "    .dataframe thead th {\n",
       "        text-align: right;\n",
       "    }\n",
       "</style>\n",
       "<table border=\"1\" class=\"dataframe\">\n",
       "  <thead>\n",
       "    <tr style=\"text-align: right;\">\n",
       "      <th></th>\n",
       "      <th>date_time</th>\n",
       "      <th>t2m</th>\n",
       "      <th>ssrd</th>\n",
       "      <th>msl</th>\n",
       "      <th>nao</th>\n",
       "      <th>w10</th>\n",
       "      <th>w100</th>\n",
       "    </tr>\n",
       "  </thead>\n",
       "  <tbody>\n",
       "    <tr>\n",
       "      <th>0</th>\n",
       "      <td>1979-01-01 00:00:00</td>\n",
       "      <td>-5.702784</td>\n",
       "      <td>-32767.0</td>\n",
       "      <td>1014.010319</td>\n",
       "      <td>-1.38</td>\n",
       "      <td>0.539450</td>\n",
       "      <td>1.686726</td>\n",
       "    </tr>\n",
       "    <tr>\n",
       "      <th>1</th>\n",
       "      <td>1979-01-01 01:00:00</td>\n",
       "      <td>-5.507162</td>\n",
       "      <td>-32767.0</td>\n",
       "      <td>1014.724101</td>\n",
       "      <td>-1.38</td>\n",
       "      <td>0.756348</td>\n",
       "      <td>1.752340</td>\n",
       "    </tr>\n",
       "    <tr>\n",
       "      <th>2</th>\n",
       "      <td>1979-01-01 02:00:00</td>\n",
       "      <td>-5.664224</td>\n",
       "      <td>-32767.0</td>\n",
       "      <td>1015.209416</td>\n",
       "      <td>-1.38</td>\n",
       "      <td>1.106655</td>\n",
       "      <td>2.131312</td>\n",
       "    </tr>\n",
       "    <tr>\n",
       "      <th>3</th>\n",
       "      <td>1979-01-01 03:00:00</td>\n",
       "      <td>-5.944852</td>\n",
       "      <td>-32767.0</td>\n",
       "      <td>1015.758926</td>\n",
       "      <td>-1.38</td>\n",
       "      <td>1.299900</td>\n",
       "      <td>2.487398</td>\n",
       "    </tr>\n",
       "    <tr>\n",
       "      <th>4</th>\n",
       "      <td>1979-01-01 04:00:00</td>\n",
       "      <td>-5.952020</td>\n",
       "      <td>-32767.0</td>\n",
       "      <td>1015.954954</td>\n",
       "      <td>-1.38</td>\n",
       "      <td>1.383135</td>\n",
       "      <td>2.694151</td>\n",
       "    </tr>\n",
       "  </tbody>\n",
       "</table>\n",
       "</div>"
      ],
      "text/plain": [
       "             date_time       t2m     ssrd          msl   nao       w10  \\\n",
       "0  1979-01-01 00:00:00 -5.702784 -32767.0  1014.010319 -1.38  0.539450   \n",
       "1  1979-01-01 01:00:00 -5.507162 -32767.0  1014.724101 -1.38  0.756348   \n",
       "2  1979-01-01 02:00:00 -5.664224 -32767.0  1015.209416 -1.38  1.106655   \n",
       "3  1979-01-01 03:00:00 -5.944852 -32767.0  1015.758926 -1.38  1.299900   \n",
       "4  1979-01-01 04:00:00 -5.952020 -32767.0  1015.954954 -1.38  1.383135   \n",
       "\n",
       "       w100  \n",
       "0  1.686726  \n",
       "1  1.752340  \n",
       "2  2.131312  \n",
       "3  2.487398  \n",
       "4  2.694151  "
      ]
     },
     "execution_count": 2,
     "metadata": {},
     "output_type": "execute_result"
    }
   ],
   "source": [
    "# load in dataset\n",
    "# read in UK t2m & NAO data\n",
    "df = pd.read_csv(\"country_data/ERA5_hourly_UK.csv\")\n",
    "df.columns = [\"date_time\",\"t2m\",\"ssrd\",\"msl\",\"nao\", \"w10\",\"w100\"]\n",
    "df.head()"
   ]
  },
  {
   "cell_type": "code",
   "execution_count": 3,
   "metadata": {},
   "outputs": [],
   "source": [
    "# add week\n",
    "df[\"week\"] = pd.to_numeric(pd.to_datetime(df.date_time).dt.strftime(\"%U\"))"
   ]
  },
  {
   "cell_type": "markdown",
   "metadata": {},
   "source": [
    "# Preprocessing\n",
    "\n",
    "### Split Train/test"
   ]
  },
  {
   "cell_type": "code",
   "execution_count": 4,
   "metadata": {},
   "outputs": [],
   "source": [
    "# calculate daily values\n",
    "df.date_time = pd.to_datetime(df.date_time)\n",
    "df_daily = df.groupby(df.date_time.dt.date).mean()\n",
    "df_daily[\"t2mmax\"] = t2mmax = df.t2m.groupby(df.date_time.dt.date).max()\n",
    "df_daily[\"t2mmin\"] = df.t2m.groupby(df.date_time.dt.date).min()\n",
    "\n",
    "# set X equal to df_daily\n",
    "X = df_daily"
   ]
  },
  {
   "cell_type": "code",
   "execution_count": 17,
   "metadata": {},
   "outputs": [],
   "source": [
    "# create 24-hour t2m arrays as target variable\n",
    "Y_list = []\n",
    "for i in range(int(len(df)/24)):\n",
    "    Y_list.append(df.t2m.iloc[(i*24):(i*24+24)].values)\n",
    "Y = np.array(Y_list)\n",
    "\n",
    "# add date_time index\n",
    "y = pd.DataFrame(Y,index=df_daily.index)"
   ]
  },
  {
   "cell_type": "markdown",
   "metadata": {},
   "source": [
    "### Visualization of independent vars"
   ]
  },
  {
   "cell_type": "code",
   "execution_count": 12,
   "metadata": {},
   "outputs": [
    {
     "data": {
      "text/plain": [
       "array([[<matplotlib.axes._subplots.AxesSubplot object at 0x7f2883f5f358>,\n",
       "        <matplotlib.axes._subplots.AxesSubplot object at 0x7f2883f3b358>,\n",
       "        <matplotlib.axes._subplots.AxesSubplot object at 0x7f2883ed98d0>],\n",
       "       [<matplotlib.axes._subplots.AxesSubplot object at 0x7f2883e83e10>,\n",
       "        <matplotlib.axes._subplots.AxesSubplot object at 0x7f2883eb13c8>,\n",
       "        <matplotlib.axes._subplots.AxesSubplot object at 0x7f2882022940>],\n",
       "       [<matplotlib.axes._subplots.AxesSubplot object at 0x7f2882049eb8>,\n",
       "        <matplotlib.axes._subplots.AxesSubplot object at 0x7f2881ff74a8>,\n",
       "        <matplotlib.axes._subplots.AxesSubplot object at 0x7f2881ff74e0>]],\n",
       "      dtype=object)"
      ]
     },
     "execution_count": 12,
     "metadata": {},
     "output_type": "execute_result"
    },
    {
     "data": {
      "image/png": "[encoded data removed]",
      "text/plain": [
       "<Figure size 720x432 with 9 Axes>"
      ]
     },
     "metadata": {
      "needs_background": "light"
     },
     "output_type": "display_data"
    }
   ],
   "source": [
    "X.hist(figsize=(10,6))"
   ]
  },
  {
   "cell_type": "markdown",
   "metadata": {},
   "source": [
    "Mostly normal distributions of variables of interest, except ssrd. "
   ]
  },
  {
   "cell_type": "code",
   "execution_count": 39,
   "metadata": {},
   "outputs": [
    {
     "data": {
      "text/plain": [
       "<matplotlib.axes._subplots.AxesSubplot at 0x7f25cf822518>"
      ]
     },
     "execution_count": 39,
     "metadata": {},
     "output_type": "execute_result"
    },
    {
     "data": {
      "image/png": "[encoded data removed]",
      "text/plain": [
       "<Figure size 432x288 with 1 Axes>"
      ]
     },
     "metadata": {
      "needs_background": "light"
     },
     "output_type": "display_data"
    }
   ],
   "source": [
    "df.ssrd.plot(figsize=())"
   ]
  },
  {
   "cell_type": "markdown",
   "metadata": {},
   "source": [
    "Remove outlier from ssrd."
   ]
  },
  {
   "cell_type": "code",
   "execution_count": 16,
   "metadata": {},
   "outputs": [
    {
     "name": "stderr",
     "output_type": "stream",
     "text": [
      "/opt/jaspy/lib/python3.7/site-packages/ipykernel_launcher.py:2: SettingWithCopyWarning: \n",
      "A value is trying to be set on a copy of a slice from a DataFrame\n",
      "\n",
      "See the caveats in the documentation: http://pandas.pydata.org/pandas-docs/stable/indexing.html#indexing-view-versus-copy\n",
      "  \n"
     ]
    },
    {
     "data": {
      "text/plain": [
       "<matplotlib.axes._subplots.AxesSubplot at 0x7f2875dffe80>"
      ]
     },
     "execution_count": 16,
     "metadata": {},
     "output_type": "execute_result"
    },
    {
     "data": {
      "image/png": "[encoded data removed]",
      "text/plain": [
       "<Figure size 432x288 with 1 Axes>"
      ]
     },
     "metadata": {
      "needs_background": "light"
     },
     "output_type": "display_data"
    }
   ],
   "source": [
    "# remove outliers\n",
    "X.ssrd[X.ssrd<-5000]=0\n",
    "\n",
    "# produce ssrd plot\n",
    "X.ssrd.hist()"
   ]
  },
  {
   "cell_type": "markdown",
   "metadata": {},
   "source": [
    "Split train/test"
   ]
  },
  {
   "cell_type": "code",
   "execution_count": 20,
   "metadata": {},
   "outputs": [],
   "source": [
    "# split train/test 70/30\n",
    "X_train, X_test, y_train, y_test = train_test_split(X,y, test_size=0.7,random_state = 10)"
   ]
  },
  {
   "cell_type": "code",
   "execution_count": null,
   "metadata": {},
   "outputs": [],
   "source": []
  },
  {
   "cell_type": "code",
   "execution_count": null,
   "metadata": {},
   "outputs": [],
   "source": []
  }
 ],
 "metadata": {
  "kernelspec": {
   "display_name": "Python 3 + Jaspy",
   "language": "python",
   "name": "jaspy"
  },
  "language_info": {
   "codemirror_mode": {
    "name": "ipython",
    "version": 3
   },
   "file_extension": ".py",
   "mimetype": "text/x-python",
   "name": "python",
   "nbconvert_exporter": "python",
   "pygments_lexer": "ipython3",
   "version": "3.7.1"
  }
 },
 "nbformat": 4,
 "nbformat_minor": 4
}
